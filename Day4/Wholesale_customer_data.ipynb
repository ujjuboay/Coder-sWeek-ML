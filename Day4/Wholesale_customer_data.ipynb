{
  "nbformat": 4,
  "nbformat_minor": 0,
  "metadata": {
    "colab": {
      "name": "Wholesale_customer_data.ipynb",
      "provenance": [],
      "collapsed_sections": []
    },
    "kernelspec": {
      "name": "python3",
      "display_name": "Python 3"
    }
  },
  "cells": [
    {
      "cell_type": "code",
      "metadata": {
        "id": "vG_mPxmhJqhk",
        "colab_type": "code",
        "outputId": "8986ca3f-5eaf-4e99-c8ea-08a41709c33b",
        "colab": {
          "base_uri": "https://localhost:8080/",
          "height": 300
        }
      },
      "source": [
        "import numpy as np\n",
        "import pandas as pd\n",
        "import matplotlib.pyplot as plt\n",
        "import seaborn as sns\n",
        "from IPython.display import display\n",
        "\n",
        "dataset = pd.read_csv(\"http://iali.in/datasets/IEEEAPSIT/unsupervised-ml/Wholesale%20customers%20data.csv\")\n",
        "dataset.describe()\n"
      ],
      "execution_count": 3,
      "outputs": [
        {
          "output_type": "execute_result",
          "data": {
            "text/html": [
              "<div>\n",
              "<style scoped>\n",
              "    .dataframe tbody tr th:only-of-type {\n",
              "        vertical-align: middle;\n",
              "    }\n",
              "\n",
              "    .dataframe tbody tr th {\n",
              "        vertical-align: top;\n",
              "    }\n",
              "\n",
              "    .dataframe thead th {\n",
              "        text-align: right;\n",
              "    }\n",
              "</style>\n",
              "<table border=\"1\" class=\"dataframe\">\n",
              "  <thead>\n",
              "    <tr style=\"text-align: right;\">\n",
              "      <th></th>\n",
              "      <th>Channel</th>\n",
              "      <th>Region</th>\n",
              "      <th>Fresh</th>\n",
              "      <th>Milk</th>\n",
              "      <th>Grocery</th>\n",
              "      <th>Frozen</th>\n",
              "      <th>Detergents_Paper</th>\n",
              "      <th>Delicassen</th>\n",
              "    </tr>\n",
              "  </thead>\n",
              "  <tbody>\n",
              "    <tr>\n",
              "      <th>count</th>\n",
              "      <td>440.000000</td>\n",
              "      <td>440.000000</td>\n",
              "      <td>440.000000</td>\n",
              "      <td>440.000000</td>\n",
              "      <td>440.000000</td>\n",
              "      <td>440.000000</td>\n",
              "      <td>440.000000</td>\n",
              "      <td>440.000000</td>\n",
              "    </tr>\n",
              "    <tr>\n",
              "      <th>mean</th>\n",
              "      <td>1.322727</td>\n",
              "      <td>2.543182</td>\n",
              "      <td>12000.297727</td>\n",
              "      <td>5796.265909</td>\n",
              "      <td>7951.277273</td>\n",
              "      <td>3071.931818</td>\n",
              "      <td>2881.493182</td>\n",
              "      <td>1524.870455</td>\n",
              "    </tr>\n",
              "    <tr>\n",
              "      <th>std</th>\n",
              "      <td>0.468052</td>\n",
              "      <td>0.774272</td>\n",
              "      <td>12647.328865</td>\n",
              "      <td>7380.377175</td>\n",
              "      <td>9503.162829</td>\n",
              "      <td>4854.673333</td>\n",
              "      <td>4767.854448</td>\n",
              "      <td>2820.105937</td>\n",
              "    </tr>\n",
              "    <tr>\n",
              "      <th>min</th>\n",
              "      <td>1.000000</td>\n",
              "      <td>1.000000</td>\n",
              "      <td>3.000000</td>\n",
              "      <td>55.000000</td>\n",
              "      <td>3.000000</td>\n",
              "      <td>25.000000</td>\n",
              "      <td>3.000000</td>\n",
              "      <td>3.000000</td>\n",
              "    </tr>\n",
              "    <tr>\n",
              "      <th>25%</th>\n",
              "      <td>1.000000</td>\n",
              "      <td>2.000000</td>\n",
              "      <td>3127.750000</td>\n",
              "      <td>1533.000000</td>\n",
              "      <td>2153.000000</td>\n",
              "      <td>742.250000</td>\n",
              "      <td>256.750000</td>\n",
              "      <td>408.250000</td>\n",
              "    </tr>\n",
              "    <tr>\n",
              "      <th>50%</th>\n",
              "      <td>1.000000</td>\n",
              "      <td>3.000000</td>\n",
              "      <td>8504.000000</td>\n",
              "      <td>3627.000000</td>\n",
              "      <td>4755.500000</td>\n",
              "      <td>1526.000000</td>\n",
              "      <td>816.500000</td>\n",
              "      <td>965.500000</td>\n",
              "    </tr>\n",
              "    <tr>\n",
              "      <th>75%</th>\n",
              "      <td>2.000000</td>\n",
              "      <td>3.000000</td>\n",
              "      <td>16933.750000</td>\n",
              "      <td>7190.250000</td>\n",
              "      <td>10655.750000</td>\n",
              "      <td>3554.250000</td>\n",
              "      <td>3922.000000</td>\n",
              "      <td>1820.250000</td>\n",
              "    </tr>\n",
              "    <tr>\n",
              "      <th>max</th>\n",
              "      <td>2.000000</td>\n",
              "      <td>3.000000</td>\n",
              "      <td>112151.000000</td>\n",
              "      <td>73498.000000</td>\n",
              "      <td>92780.000000</td>\n",
              "      <td>60869.000000</td>\n",
              "      <td>40827.000000</td>\n",
              "      <td>47943.000000</td>\n",
              "    </tr>\n",
              "  </tbody>\n",
              "</table>\n",
              "</div>"
            ],
            "text/plain": [
              "          Channel      Region  ...  Detergents_Paper    Delicassen\n",
              "count  440.000000  440.000000  ...        440.000000    440.000000\n",
              "mean     1.322727    2.543182  ...       2881.493182   1524.870455\n",
              "std      0.468052    0.774272  ...       4767.854448   2820.105937\n",
              "min      1.000000    1.000000  ...          3.000000      3.000000\n",
              "25%      1.000000    2.000000  ...        256.750000    408.250000\n",
              "50%      1.000000    3.000000  ...        816.500000    965.500000\n",
              "75%      2.000000    3.000000  ...       3922.000000   1820.250000\n",
              "max      2.000000    3.000000  ...      40827.000000  47943.000000\n",
              "\n",
              "[8 rows x 8 columns]"
            ]
          },
          "metadata": {
            "tags": []
          },
          "execution_count": 3
        }
      ]
    },
    {
      "cell_type": "code",
      "metadata": {
        "id": "ByRYLCW4O8Dg",
        "colab_type": "code",
        "outputId": "f3218571-accb-40f4-8362-999bceb1b8b9",
        "colab": {
          "base_uri": "https://localhost:8080/",
          "height": 206
        }
      },
      "source": [
        "dataset.drop([\"Channel\", \"Region\"], axis = 1, inplace=True)\n",
        "dataset.head()"
      ],
      "execution_count": 4,
      "outputs": [
        {
          "output_type": "execute_result",
          "data": {
            "text/html": [
              "<div>\n",
              "<style scoped>\n",
              "    .dataframe tbody tr th:only-of-type {\n",
              "        vertical-align: middle;\n",
              "    }\n",
              "\n",
              "    .dataframe tbody tr th {\n",
              "        vertical-align: top;\n",
              "    }\n",
              "\n",
              "    .dataframe thead th {\n",
              "        text-align: right;\n",
              "    }\n",
              "</style>\n",
              "<table border=\"1\" class=\"dataframe\">\n",
              "  <thead>\n",
              "    <tr style=\"text-align: right;\">\n",
              "      <th></th>\n",
              "      <th>Fresh</th>\n",
              "      <th>Milk</th>\n",
              "      <th>Grocery</th>\n",
              "      <th>Frozen</th>\n",
              "      <th>Detergents_Paper</th>\n",
              "      <th>Delicassen</th>\n",
              "    </tr>\n",
              "  </thead>\n",
              "  <tbody>\n",
              "    <tr>\n",
              "      <th>0</th>\n",
              "      <td>12669</td>\n",
              "      <td>9656</td>\n",
              "      <td>7561</td>\n",
              "      <td>214</td>\n",
              "      <td>2674</td>\n",
              "      <td>1338</td>\n",
              "    </tr>\n",
              "    <tr>\n",
              "      <th>1</th>\n",
              "      <td>7057</td>\n",
              "      <td>9810</td>\n",
              "      <td>9568</td>\n",
              "      <td>1762</td>\n",
              "      <td>3293</td>\n",
              "      <td>1776</td>\n",
              "    </tr>\n",
              "    <tr>\n",
              "      <th>2</th>\n",
              "      <td>6353</td>\n",
              "      <td>8808</td>\n",
              "      <td>7684</td>\n",
              "      <td>2405</td>\n",
              "      <td>3516</td>\n",
              "      <td>7844</td>\n",
              "    </tr>\n",
              "    <tr>\n",
              "      <th>3</th>\n",
              "      <td>13265</td>\n",
              "      <td>1196</td>\n",
              "      <td>4221</td>\n",
              "      <td>6404</td>\n",
              "      <td>507</td>\n",
              "      <td>1788</td>\n",
              "    </tr>\n",
              "    <tr>\n",
              "      <th>4</th>\n",
              "      <td>22615</td>\n",
              "      <td>5410</td>\n",
              "      <td>7198</td>\n",
              "      <td>3915</td>\n",
              "      <td>1777</td>\n",
              "      <td>5185</td>\n",
              "    </tr>\n",
              "  </tbody>\n",
              "</table>\n",
              "</div>"
            ],
            "text/plain": [
              "   Fresh  Milk  Grocery  Frozen  Detergents_Paper  Delicassen\n",
              "0  12669  9656     7561     214              2674        1338\n",
              "1   7057  9810     9568    1762              3293        1776\n",
              "2   6353  8808     7684    2405              3516        7844\n",
              "3  13265  1196     4221    6404               507        1788\n",
              "4  22615  5410     7198    3915              1777        5185"
            ]
          },
          "metadata": {
            "tags": []
          },
          "execution_count": 4
        }
      ]
    },
    {
      "cell_type": "code",
      "metadata": {
        "id": "gCaY9JVGPE_z",
        "colab_type": "code",
        "outputId": "92a58eb8-a4a7-40eb-fdcd-9f98b45f9e6a",
        "colab": {
          "base_uri": "https://localhost:8080/",
          "height": 34
        }
      },
      "source": [
        "dataset.columns"
      ],
      "execution_count": 5,
      "outputs": [
        {
          "output_type": "execute_result",
          "data": {
            "text/plain": [
              "Index(['Fresh', 'Milk', 'Grocery', 'Frozen', 'Detergents_Paper', 'Delicassen'], dtype='object')"
            ]
          },
          "metadata": {
            "tags": []
          },
          "execution_count": 5
        }
      ]
    },
    {
      "cell_type": "code",
      "metadata": {
        "id": "QD-vxN3tPM0W",
        "colab_type": "code",
        "colab": {
          "base_uri": "https://localhost:8080/",
          "height": 206
        },
        "outputId": "1342d5f2-9ea3-4cf0-fa97-1834c29ae99b"
      },
      "source": [
        "fresh_1 = 3000\n",
        "display(dataset.loc[dataset.Fresh < fresh_1, :].head())"
      ],
      "execution_count": 7,
      "outputs": [
        {
          "output_type": "display_data",
          "data": {
            "text/html": [
              "<div>\n",
              "<style scoped>\n",
              "    .dataframe tbody tr th:only-of-type {\n",
              "        vertical-align: middle;\n",
              "    }\n",
              "\n",
              "    .dataframe tbody tr th {\n",
              "        vertical-align: top;\n",
              "    }\n",
              "\n",
              "    .dataframe thead th {\n",
              "        text-align: right;\n",
              "    }\n",
              "</style>\n",
              "<table border=\"1\" class=\"dataframe\">\n",
              "  <thead>\n",
              "    <tr style=\"text-align: right;\">\n",
              "      <th></th>\n",
              "      <th>Fresh</th>\n",
              "      <th>Milk</th>\n",
              "      <th>Grocery</th>\n",
              "      <th>Frozen</th>\n",
              "      <th>Detergents_Paper</th>\n",
              "      <th>Delicassen</th>\n",
              "    </tr>\n",
              "  </thead>\n",
              "  <tbody>\n",
              "    <tr>\n",
              "      <th>16</th>\n",
              "      <td>1020</td>\n",
              "      <td>8816</td>\n",
              "      <td>12121</td>\n",
              "      <td>134</td>\n",
              "      <td>4508</td>\n",
              "      <td>1080</td>\n",
              "    </tr>\n",
              "    <tr>\n",
              "      <th>31</th>\n",
              "      <td>2612</td>\n",
              "      <td>4339</td>\n",
              "      <td>3133</td>\n",
              "      <td>2088</td>\n",
              "      <td>820</td>\n",
              "      <td>985</td>\n",
              "    </tr>\n",
              "    <tr>\n",
              "      <th>34</th>\n",
              "      <td>1502</td>\n",
              "      <td>1979</td>\n",
              "      <td>2262</td>\n",
              "      <td>425</td>\n",
              "      <td>483</td>\n",
              "      <td>395</td>\n",
              "    </tr>\n",
              "    <tr>\n",
              "      <th>35</th>\n",
              "      <td>688</td>\n",
              "      <td>5491</td>\n",
              "      <td>11091</td>\n",
              "      <td>833</td>\n",
              "      <td>4239</td>\n",
              "      <td>436</td>\n",
              "    </tr>\n",
              "    <tr>\n",
              "      <th>43</th>\n",
              "      <td>630</td>\n",
              "      <td>11095</td>\n",
              "      <td>23998</td>\n",
              "      <td>787</td>\n",
              "      <td>9529</td>\n",
              "      <td>72</td>\n",
              "    </tr>\n",
              "  </tbody>\n",
              "</table>\n",
              "</div>"
            ],
            "text/plain": [
              "    Fresh   Milk  Grocery  Frozen  Detergents_Paper  Delicassen\n",
              "16   1020   8816    12121     134              4508        1080\n",
              "31   2612   4339     3133    2088               820         985\n",
              "34   1502   1979     2262     425               483         395\n",
              "35    688   5491    11091     833              4239         436\n",
              "43    630  11095    23998     787              9529          72"
            ]
          },
          "metadata": {
            "tags": []
          }
        }
      ]
    },
    {
      "cell_type": "code",
      "metadata": {
        "id": "L1wjwJga8fz3",
        "colab_type": "code",
        "colab": {
          "base_uri": "https://localhost:8080/",
          "height": 206
        },
        "outputId": "4cbcc24b-5e8a-46ca-c0f4-50ac2de5bf94"
      },
      "source": [
        "frozen_1 = 700\n",
        "display(dataset.loc[dataset.Frozen < frozen_1, :].head())"
      ],
      "execution_count": 9,
      "outputs": [
        {
          "output_type": "display_data",
          "data": {
            "text/html": [
              "<div>\n",
              "<style scoped>\n",
              "    .dataframe tbody tr th:only-of-type {\n",
              "        vertical-align: middle;\n",
              "    }\n",
              "\n",
              "    .dataframe tbody tr th {\n",
              "        vertical-align: top;\n",
              "    }\n",
              "\n",
              "    .dataframe thead th {\n",
              "        text-align: right;\n",
              "    }\n",
              "</style>\n",
              "<table border=\"1\" class=\"dataframe\">\n",
              "  <thead>\n",
              "    <tr style=\"text-align: right;\">\n",
              "      <th></th>\n",
              "      <th>Fresh</th>\n",
              "      <th>Milk</th>\n",
              "      <th>Grocery</th>\n",
              "      <th>Frozen</th>\n",
              "      <th>Detergents_Paper</th>\n",
              "      <th>Delicassen</th>\n",
              "    </tr>\n",
              "  </thead>\n",
              "  <tbody>\n",
              "    <tr>\n",
              "      <th>0</th>\n",
              "      <td>12669</td>\n",
              "      <td>9656</td>\n",
              "      <td>7561</td>\n",
              "      <td>214</td>\n",
              "      <td>2674</td>\n",
              "      <td>1338</td>\n",
              "    </tr>\n",
              "    <tr>\n",
              "      <th>5</th>\n",
              "      <td>9413</td>\n",
              "      <td>8259</td>\n",
              "      <td>5126</td>\n",
              "      <td>666</td>\n",
              "      <td>1795</td>\n",
              "      <td>1451</td>\n",
              "    </tr>\n",
              "    <tr>\n",
              "      <th>6</th>\n",
              "      <td>12126</td>\n",
              "      <td>3199</td>\n",
              "      <td>6975</td>\n",
              "      <td>480</td>\n",
              "      <td>3140</td>\n",
              "      <td>545</td>\n",
              "    </tr>\n",
              "    <tr>\n",
              "      <th>8</th>\n",
              "      <td>5963</td>\n",
              "      <td>3648</td>\n",
              "      <td>6192</td>\n",
              "      <td>425</td>\n",
              "      <td>1716</td>\n",
              "      <td>750</td>\n",
              "    </tr>\n",
              "    <tr>\n",
              "      <th>12</th>\n",
              "      <td>31714</td>\n",
              "      <td>12319</td>\n",
              "      <td>11757</td>\n",
              "      <td>287</td>\n",
              "      <td>3881</td>\n",
              "      <td>2931</td>\n",
              "    </tr>\n",
              "  </tbody>\n",
              "</table>\n",
              "</div>"
            ],
            "text/plain": [
              "    Fresh   Milk  Grocery  Frozen  Detergents_Paper  Delicassen\n",
              "0   12669   9656     7561     214              2674        1338\n",
              "5    9413   8259     5126     666              1795        1451\n",
              "6   12126   3199     6975     480              3140         545\n",
              "8    5963   3648     6192     425              1716         750\n",
              "12  31714  12319    11757     287              3881        2931"
            ]
          },
          "metadata": {
            "tags": []
          }
        }
      ]
    },
    {
      "cell_type": "code",
      "metadata": {
        "id": "2Aymmkf48-8u",
        "colab_type": "code",
        "colab": {
          "base_uri": "https://localhost:8080/",
          "height": 269
        },
        "outputId": "16d14e71-312d-4141-8c1c-0b982bf578e9"
      },
      "source": [
        "frozen_2 = 4000\n",
        "display(dataset.loc[dataset.Frozen > frozen_2, :].head(7))"
      ],
      "execution_count": 10,
      "outputs": [
        {
          "output_type": "display_data",
          "data": {
            "text/html": [
              "<div>\n",
              "<style scoped>\n",
              "    .dataframe tbody tr th:only-of-type {\n",
              "        vertical-align: middle;\n",
              "    }\n",
              "\n",
              "    .dataframe tbody tr th {\n",
              "        vertical-align: top;\n",
              "    }\n",
              "\n",
              "    .dataframe thead th {\n",
              "        text-align: right;\n",
              "    }\n",
              "</style>\n",
              "<table border=\"1\" class=\"dataframe\">\n",
              "  <thead>\n",
              "    <tr style=\"text-align: right;\">\n",
              "      <th></th>\n",
              "      <th>Fresh</th>\n",
              "      <th>Milk</th>\n",
              "      <th>Grocery</th>\n",
              "      <th>Frozen</th>\n",
              "      <th>Detergents_Paper</th>\n",
              "      <th>Delicassen</th>\n",
              "    </tr>\n",
              "  </thead>\n",
              "  <tbody>\n",
              "    <tr>\n",
              "      <th>3</th>\n",
              "      <td>13265</td>\n",
              "      <td>1196</td>\n",
              "      <td>4221</td>\n",
              "      <td>6404</td>\n",
              "      <td>507</td>\n",
              "      <td>1788</td>\n",
              "    </tr>\n",
              "    <tr>\n",
              "      <th>10</th>\n",
              "      <td>3366</td>\n",
              "      <td>5403</td>\n",
              "      <td>12974</td>\n",
              "      <td>4400</td>\n",
              "      <td>5977</td>\n",
              "      <td>1744</td>\n",
              "    </tr>\n",
              "    <tr>\n",
              "      <th>22</th>\n",
              "      <td>31276</td>\n",
              "      <td>1917</td>\n",
              "      <td>4469</td>\n",
              "      <td>9408</td>\n",
              "      <td>2381</td>\n",
              "      <td>4334</td>\n",
              "    </tr>\n",
              "    <tr>\n",
              "      <th>23</th>\n",
              "      <td>26373</td>\n",
              "      <td>36423</td>\n",
              "      <td>22019</td>\n",
              "      <td>5154</td>\n",
              "      <td>4337</td>\n",
              "      <td>16523</td>\n",
              "    </tr>\n",
              "    <tr>\n",
              "      <th>33</th>\n",
              "      <td>29729</td>\n",
              "      <td>4786</td>\n",
              "      <td>7326</td>\n",
              "      <td>6130</td>\n",
              "      <td>361</td>\n",
              "      <td>1083</td>\n",
              "    </tr>\n",
              "    <tr>\n",
              "      <th>39</th>\n",
              "      <td>56159</td>\n",
              "      <td>555</td>\n",
              "      <td>902</td>\n",
              "      <td>10002</td>\n",
              "      <td>212</td>\n",
              "      <td>2916</td>\n",
              "    </tr>\n",
              "    <tr>\n",
              "      <th>40</th>\n",
              "      <td>24025</td>\n",
              "      <td>4332</td>\n",
              "      <td>4757</td>\n",
              "      <td>9510</td>\n",
              "      <td>1145</td>\n",
              "      <td>5864</td>\n",
              "    </tr>\n",
              "  </tbody>\n",
              "</table>\n",
              "</div>"
            ],
            "text/plain": [
              "    Fresh   Milk  Grocery  Frozen  Detergents_Paper  Delicassen\n",
              "3   13265   1196     4221    6404               507        1788\n",
              "10   3366   5403    12974    4400              5977        1744\n",
              "22  31276   1917     4469    9408              2381        4334\n",
              "23  26373  36423    22019    5154              4337       16523\n",
              "33  29729   4786     7326    6130               361        1083\n",
              "39  56159    555      902   10002               212        2916\n",
              "40  24025   4332     4757    9510              1145        5864"
            ]
          },
          "metadata": {
            "tags": []
          }
        }
      ]
    },
    {
      "cell_type": "code",
      "metadata": {
        "id": "7TnEfqMg9R23",
        "colab_type": "code",
        "colab": {
          "base_uri": "https://localhost:8080/",
          "height": 143
        },
        "outputId": "8be9be27-5e25-44a4-93d7-52fc851e28ce"
      },
      "source": [
        "indices = [43, 12, 40]\n",
        "\n",
        "samples = pd.DataFrame(dataset.loc[indices], columns = dataset.columns)\n",
        "display(samples)\n"
      ],
      "execution_count": 13,
      "outputs": [
        {
          "output_type": "display_data",
          "data": {
            "text/html": [
              "<div>\n",
              "<style scoped>\n",
              "    .dataframe tbody tr th:only-of-type {\n",
              "        vertical-align: middle;\n",
              "    }\n",
              "\n",
              "    .dataframe tbody tr th {\n",
              "        vertical-align: top;\n",
              "    }\n",
              "\n",
              "    .dataframe thead th {\n",
              "        text-align: right;\n",
              "    }\n",
              "</style>\n",
              "<table border=\"1\" class=\"dataframe\">\n",
              "  <thead>\n",
              "    <tr style=\"text-align: right;\">\n",
              "      <th></th>\n",
              "      <th>Fresh</th>\n",
              "      <th>Milk</th>\n",
              "      <th>Grocery</th>\n",
              "      <th>Frozen</th>\n",
              "      <th>Detergents_Paper</th>\n",
              "      <th>Delicassen</th>\n",
              "    </tr>\n",
              "  </thead>\n",
              "  <tbody>\n",
              "    <tr>\n",
              "      <th>43</th>\n",
              "      <td>630</td>\n",
              "      <td>11095</td>\n",
              "      <td>23998</td>\n",
              "      <td>787</td>\n",
              "      <td>9529</td>\n",
              "      <td>72</td>\n",
              "    </tr>\n",
              "    <tr>\n",
              "      <th>12</th>\n",
              "      <td>31714</td>\n",
              "      <td>12319</td>\n",
              "      <td>11757</td>\n",
              "      <td>287</td>\n",
              "      <td>3881</td>\n",
              "      <td>2931</td>\n",
              "    </tr>\n",
              "    <tr>\n",
              "      <th>40</th>\n",
              "      <td>24025</td>\n",
              "      <td>4332</td>\n",
              "      <td>4757</td>\n",
              "      <td>9510</td>\n",
              "      <td>1145</td>\n",
              "      <td>5864</td>\n",
              "    </tr>\n",
              "  </tbody>\n",
              "</table>\n",
              "</div>"
            ],
            "text/plain": [
              "    Fresh   Milk  Grocery  Frozen  Detergents_Paper  Delicassen\n",
              "43    630  11095    23998     787              9529          72\n",
              "12  31714  12319    11757     287              3881        2931\n",
              "40  24025   4332     4757    9510              1145        5864"
            ]
          },
          "metadata": {
            "tags": []
          }
        }
      ]
    },
    {
      "cell_type": "code",
      "metadata": {
        "id": "hBMFqcf-9kMv",
        "colab_type": "code",
        "colab": {}
      },
      "source": [
        "from sklearn.model_selection import train_test_split\n",
        "from sklearn.tree import DecisionTreeRegressor"
      ],
      "execution_count": 0,
      "outputs": []
    },
    {
      "cell_type": "code",
      "metadata": {
        "id": "97bZZmGx-Jzw",
        "colab_type": "code",
        "colab": {
          "base_uri": "https://localhost:8080/",
          "height": 139
        },
        "outputId": "2ed5c60a-e52b-45b5-d651-9e6d874573c2"
      },
      "source": [
        "col_list = list(dataset.columns)\n",
        "\n",
        "for col in col_list:\n",
        "    new_dataset = dataset.drop([col], axis = 1)\n",
        "    new_cols = pd.DataFrame(dataset.loc[:, col])\n",
        "\n",
        "    X_train, X_test, y_train, y_test = train_test_split(new_dataset, new_cols, test_size=0.25, random_state=42)\n",
        "\n",
        "    tree = DecisionTreeRegressor(random_state=42)\n",
        "    tree.fit(X_train, y_train)\n",
        "    \n",
        "    score = tree.score(X_test, y_test)\n",
        "    print('R2 score for {} as variable: {}'.format(col, score))    "
      ],
      "execution_count": 33,
      "outputs": [
        {
          "output_type": "stream",
          "text": [
            "R2 score for Fresh as variable: 0.23442582811079016\n",
            "R2 score for Milk as variable: 0.31858814314886996\n",
            "R2 score for Grocery as variable: 0.6424575908792403\n",
            "R2 score for Frozen as variable: -0.24360091089295888\n",
            "R2 score for Detergents_Paper as variable: 0.3183998357937333\n",
            "R2 score for Delicassen as variable: -2.5426175452253803\n",
            "R2 score for label as variable: 0.6614640580347327\n"
          ],
          "name": "stdout"
        }
      ]
    },
    {
      "cell_type": "code",
      "metadata": {
        "id": "6zl9EdR4ERgW",
        "colab_type": "code",
        "colab": {}
      },
      "source": [
        "from sklearn.cluster import KMeans\n",
        "km = KMeans(n_clusters=6)\n",
        "clusters = km.fit_predict(dataset.iloc[:,1:])\n",
        "dataset[\"label\"] = clusters"
      ],
      "execution_count": 0,
      "outputs": []
    },
    {
      "cell_type": "code",
      "metadata": {
        "id": "qHgnvznv_-hn",
        "colab_type": "code",
        "colab": {
          "base_uri": "https://localhost:8080/",
          "height": 575
        },
        "outputId": "25ea068f-6e1a-4b9a-8f22-3a67384ee9fa"
      },
      "source": [
        "fig = plt.figure(figsize=(20,10))\n",
        "cluster_plot = fig.add_subplot(111, projection='3d')\n",
        "\n",
        "cluster_plot.scatter(dataset.Fresh[dataset.label == 0], dataset.Milk[dataset.label == 0], dataset.Grocery[dataset.label == 0], c='red', s=60)\n",
        "cluster_plot.scatter(dataset.Fresh[dataset.label == 1], dataset.Milk[dataset.label == 1], dataset.Grocery[dataset.label == 1], c='green', s=60)\n",
        "cluster_plot.scatter(dataset.Fresh[dataset.label == 2], dataset.Milk[dataset.label == 2], dataset.Grocery[dataset.label == 2], c='yellow', s=60)\n",
        "cluster_plot.scatter(dataset.Fresh[dataset.label == 3], dataset.Milk[dataset.label == 3], dataset.Grocery[dataset.label == 3], c='orange', s=60)\n",
        "cluster_plot.scatter(dataset.Fresh[dataset.label == 4], dataset.Milk[dataset.label == 4], dataset.Grocery[dataset.label == 4], c='blue', s=60)\n",
        "cluster_plot.scatter(dataset.Fresh[dataset.label == 5], dataset.Milk[dataset.label == 5], dataset.Grocery[dataset.label == 5], c='black', s=60)\n",
        "\n",
        "cluster_plot.view_init(10, 100)\n",
        "plt.xlabel(\"Fresh\")\n",
        "plt.ylabel(\"Milk\")\n",
        "cluster_plot.set_zlabel(\"Grocery\")\n",
        "plt.show()"
      ],
      "execution_count": 43,
      "outputs": [
        {
          "output_type": "display_data",
          "data": {
            "image/png": "[encoded data removed]",
            "text/plain": [
              "<Figure size 1440x720 with 1 Axes>"
            ]
          },
          "metadata": {
            "tags": [],
            "needs_background": "light"
          }
        }
      ]
    },
    {
      "cell_type": "code",
      "metadata": {
        "id": "TEGtCIX-CLgU",
        "colab_type": "code",
        "colab": {}
      },
      "source": [
        ""
      ],
      "execution_count": 0,
      "outputs": []
    }
  ]
}